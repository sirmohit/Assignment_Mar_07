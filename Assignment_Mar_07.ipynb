{
 "cells": [
  {
   "cell_type": "markdown",
   "id": "70ece804",
   "metadata": {},
   "source": [
    "Q1. What are the three measures of central tendency?"
   ]
  },
  {
   "cell_type": "markdown",
   "id": "7621cb5b",
   "metadata": {},
   "source": [
    "Ans: \n",
    "    \n",
    "    The three measures of central tendency are:\n",
    "        1.mean\n",
    "        2.median\n",
    "        3.mode"
   ]
  },
  {
   "cell_type": "markdown",
   "id": "f8541d87",
   "metadata": {},
   "source": [
    "Q2. What is the difference between the mean, median, and mode? How are they used to measure the\n",
    "central tendency of a dataset?"
   ]
  },
  {
   "cell_type": "markdown",
   "id": "35345b92",
   "metadata": {},
   "source": [
    "Ans:\n",
    "    \n",
    "   \n",
    "    Mean:\n",
    "\n",
    "    The mean is calculated by summing up all the values in a dataset and then dividing by the number of values.\n",
    "    Formula: \n",
    "    Mean=Sum of all values/Number of values\n",
    "    The mean is sensitive to outliers. A single extremely high or low value can significantly affect the mean, pulling it \n",
    "    in the direction of that outlier.\n",
    "    \n",
    "    Median:\n",
    "\n",
    "    The median is the middle value when a dataset is ordered from least to greatest. If there's an even number of data \n",
    "    points, the median is the average of the two middle values.\n",
    "    To find the median, you arrange all the numbers in ascending order and then locate the middle value(s).\n",
    "    Unlike the mean, the median is not influenced by extreme values or outliers. It gives you the middle value, which can\n",
    "    provide a more accurate representation of the central value if there are outliers in the dataset.\n",
    "    \n",
    "    Mode:\n",
    "\n",
    "    The mode is the value(s) that appear most frequently in a dataset.\n",
    "    A dataset can have:\n",
    "    One mode (unimodal) if there is a single value that appears most frequently.\n",
    "    Two modes (bimodal) if two values appear with the same highest frequency.\n",
    "    More than two modes (multimodal) if multiple values have the same highest frequency.\n",
    "    Unlike the mean and median, the mode is not affected by extreme values or the actual numeric values in the dataset.\n",
    "    It only focuses on the frequency of occurrence.\n",
    "    \n",
    "    Usage in Central Tendency:\n",
    "\n",
    "    Mean: It's generally used when the dataset is normally distributed (bell-shaped curve) and does not have significant\n",
    "        outliers that could skew the data. It gives you a balanced view of the dataset when the distribution is symmetrical.\n",
    "\n",
    "    Median: This measure is preferred when the data has outliers or is skewed (not normally distributed). By using the\n",
    "        median, you ensure that extreme values don't unduly influence the central tendency measure.\n",
    "\n",
    "    Mode: The mode is most useful for categorical data or when you want to understand which value occurs most frequently\n",
    "        in a dataset. In some cases, like in a bimodal distribution, the mode can help identify multiple peaks or \n",
    "        clusters in the data.\n"
   ]
  },
  {
   "cell_type": "markdown",
   "id": "e114fd52",
   "metadata": {},
   "source": [
    "Q3. Measure the three measures of central tendency for the given height data:\n",
    "[178,177,176,177,178.2,178,175,179,180,175,178.9,176.2,177,172.5,178,176.5]\n"
   ]
  },
  {
   "cell_type": "markdown",
   "id": "927d195d",
   "metadata": {},
   "source": [
    "Ans:\n",
    "    \n",
    "    \n",
    "    To determine the measures of central tendency for the given height data, let's calculate the mean, median, and mode.\n",
    "\n",
    "    Given Height Data:[178,177,176,177,178.2,178,175,179,180,175,178.9,176.2,177,172.5,178,176.5]\n",
    "    \n",
    "    Mean:To calculate the mean, sum up all the heights and then divide by the total number of heights.\n",
    "    Mean=Sum of all heights/Number of heights\n",
    "    \n",
    "    Mean= 178+177+176+177+178.2+178+175+179+180+175+178.9+176.2+177+172.5+178+176.5/16 \n",
    "    Mean=176.58 (rounded to two decimal places)\n",
    "    \n",
    "    Median:\n",
    "    First, arrange the heights in ascending order:172.5,175,175,176,176,176.2,176.5,177,177,177,178,178,178,178.2,178.9,179,180\n",
    "        Since there are 16 data points (an even number), the median will be the average of the 8th and 9th values.\n",
    "        Median= 177+177/2\n",
    "        Median=177\n",
    "    Mode:\n",
    "    From the sorted list, we can see that 178 appears most frequently (four times), so the mode of the data set is 178.\n",
    "\n"
   ]
  },
  {
   "cell_type": "markdown",
   "id": "17c691b5",
   "metadata": {},
   "source": [
    "Q4. Find the standard deviation for the given data:\n",
    "[178,177,176,177,178.2,178,175,179,180,175,178.9,176.2,177,172.5,178,176.5]"
   ]
  },
  {
   "cell_type": "code",
   "execution_count": 5,
   "id": "4e8d0734",
   "metadata": {},
   "outputs": [
    {
     "data": {
      "text/plain": [
       "177.01875"
      ]
     },
     "execution_count": 5,
     "metadata": {},
     "output_type": "execute_result"
    }
   ],
   "source": [
    "import numpy as np\n",
    "data_list =  [178,177,176,177,178.2,178,175,179,180,175,178.9,176.2,177,172.5,178,176.5]\n",
    "mean = np.mean(data_list)\n",
    "mean\n",
    " "
   ]
  },
  {
   "cell_type": "code",
   "execution_count": 6,
   "id": "a4fb1566",
   "metadata": {},
   "outputs": [
    {
     "data": {
      "text/plain": [
       "3.199023437500001"
      ]
     },
     "execution_count": 6,
     "metadata": {},
     "output_type": "execute_result"
    }
   ],
   "source": [
    "#calculating variance\n",
    "np.var(data_list)"
   ]
  },
  {
   "cell_type": "code",
   "execution_count": 7,
   "id": "2dfce426",
   "metadata": {},
   "outputs": [
    {
     "data": {
      "text/plain": [
       "1.7885814036548633"
      ]
     },
     "execution_count": 7,
     "metadata": {},
     "output_type": "execute_result"
    }
   ],
   "source": [
    "#calculating standard deviation\n",
    "np.std(data_list)"
   ]
  },
  {
   "cell_type": "markdown",
   "id": "7434a2b9",
   "metadata": {},
   "source": [
    "Q5. How are measures of dispersion such as range, variance, and standard deviation used to describe\n",
    "the spread of a dataset? Provide an example."
   ]
  },
  {
   "cell_type": "markdown",
   "id": "6e9201b7",
   "metadata": {},
   "source": [
    "Ans:\n",
    "    \n",
    "    Range:\n",
    "\n",
    "    Definition: Range represents the difference between the highest and lowest values in a dataset.\n",
    "    Application: It provides a simple measure of the total variability in the dataset. A wider range indicates greater \n",
    "        variability, while a narrower range indicates less variability.\n",
    "    Example: Consider two datasets:\n",
    "    Dataset A: [10, 20, 30, 40, 50] → Range = 50 - 10 = 40\n",
    "    Dataset B: [10, 11, 12, 13, 14] → Range = 14 - 10 = 4\n",
    "    Dataset A has a larger range, suggesting greater variability compared to Dataset B.\n",
    "    \n",
    "    Variance:\n",
    "\n",
    "    Definition: Variance measures the average of the squared differences from the mean. It quantifies how much the data\n",
    "        points in a dataset differ from the mean.\n",
    "    Application: A higher variance indicates that data points are more spread out from the mean, implying greater \n",
    "        variability. Conversely, a lower variance suggests that data points are closer to the mean.\n",
    "    Example: Suppose you have two datasets of test scores:\n",
    "    Dataset C: [85, 90, 88, 92, 87] → Variance might be calculated as 9.\n",
    "    Dataset D: [88, 89, 88, 90, 89] → Variance might be calculated as 0.8.\n",
    "    Dataset C has a higher variance, indicating greater variability in scores compared to Dataset D.\n",
    "    \n",
    "    Standard Deviation:\n",
    "\n",
    "    Definition: The standard deviation is the square root of the variance. It provides a measure of the average distance of                individual data points from the mean.\n",
    "    Application: A higher standard deviation indicates more variability or dispersion of data points from the mean. A lower                standard deviation suggests that data points are closer to the mean.\n",
    "    Example: Using the same test score datasets:\n",
    "    Dataset C (from the variance example) with a variance of 9 might have a standard deviation of under root 9 =3\n",
    "\n"
   ]
  },
  {
   "cell_type": "markdown",
   "id": "0386924b",
   "metadata": {},
   "source": [
    "Q6. What is a Venn diagram?"
   ]
  },
  {
   "cell_type": "markdown",
   "id": "b31fc936",
   "metadata": {},
   "source": [
    "Ans:\n",
    "    Venn Diagram:A Venn diagram is a visual representation used to illustrate the relationships between different sets.\n",
    "        It consists of overlapping circles (or other shapes) where each circle typically represents a specific set. The \n",
    "        overlapping areas of these circles indicate elements that belong to multiple sets simultaneously, helping to visualize\n",
    "        the intersections and differences between sets."
   ]
  },
  {
   "cell_type": "markdown",
   "id": "34ac49f2",
   "metadata": {},
   "source": [
    "Q7. For the two given sets A = (2,3,4,5,6,7) & B = (0,2,6,8,10). Find:\n",
    "(i) A intersection B\n",
    "(ii) A ⋃ B"
   ]
  },
  {
   "cell_type": "markdown",
   "id": "338bcef1",
   "metadata": {},
   "source": [
    "Ans:\n",
    "    \n",
    "    A= (2,3,4,5,6,7)\n",
    "    B= (0,2,6,8,10)\n",
    "    \n",
    "    A intersection B = {2,6}\n",
    "    A union B = {0,2,3,4,5,6,7,8,10}"
   ]
  },
  {
   "cell_type": "markdown",
   "id": "479fa1a9",
   "metadata": {},
   "source": [
    "Q8. What do you understand about skewness in data?"
   ]
  },
  {
   "cell_type": "markdown",
   "id": "fb357695",
   "metadata": {},
   "source": [
    "Ans:\n",
    "    \n",
    "    Skewness:Skewness is a statistical measure that describes the asymmetry or lack of symmetry in a dataset's distribution. \n",
    "        In simpler terms, skewness indicates whether the data is skewed to the left (negative skewness), skewed to the right\n",
    "        (positive skewness), or roughly symmetrical (zero or close to zero skewness)."
   ]
  },
  {
   "cell_type": "markdown",
   "id": "b4710c7e",
   "metadata": {},
   "source": [
    "Q9. If a data is right skewed then what will be the position of median with respect to mean?"
   ]
  },
  {
   "cell_type": "markdown",
   "id": "968f022d",
   "metadata": {},
   "source": [
    "Ans:If a data is right skewed then the median will be less than the mean."
   ]
  },
  {
   "cell_type": "markdown",
   "id": "ac11df46",
   "metadata": {},
   "source": [
    "Q10. Explain the difference between covariance and correlation. How are these measures used in\n",
    "statistical analysis?"
   ]
  },
  {
   "cell_type": "markdown",
   "id": "a7435daf",
   "metadata": {},
   "source": [
    "Ans:\n",
    "\n",
    "    Covariance:\n",
    "    Definition: Covariance measures the extent to which two variables change together. Specifically, it calculates how much\n",
    "        two random variables vary together from their expected values.\n",
    "\n",
    "    Calculation: The formula for the covariance between two variables X and Y in a dataset with n observations is:\n",
    "\n",
    "        cov(X,Y) = summation of X of i from 1 to n (X of i - X mean) * (Y of i - Y mean) / n\n",
    "        \n",
    "        \n",
    "        Interpretation:\n",
    "    Positive covariance indicates that as one variable increases, the other variable also tends to increase, and vice versa.\n",
    "    Negative covariance suggests that as one variable increases, the other variable tends to decrease.\n",
    "    \n",
    "    Correlation:\n",
    "    Definition: Correlation measures the strength and direction of the linear relationship between two variables. Unlike\n",
    "        covariance, correlation provides a standardized measure that always lies between -1 and 1.\n",
    "\n",
    "    Calculation: Pearson's correlation coefficient is the most common method used to compute correlation. \n",
    "        The formula is:\n",
    "            \n",
    "            r= Cov(X,Y)/sX * sY\n",
    "            \n",
    "    Where:Cov(X,Y) is the covariance between X and Y.\n",
    "        sX and sY are the standard deviations of \n",
    "\n",
    "    Differences:\n",
    "    Scale: Covariance can take on any value between −∞ and +∞, depending on the units of the variables, making it \n",
    "        scale-dependent.\n",
    "        In contrast, correlation is dimensionless and always lies between -1 and 1.\n",
    "\n",
    "    Interpretability: Correlation provides a more interpretable measure of the relationship strength and direction between\n",
    "    two variables than covariance because of its standardized scale.\n",
    "\n",
    "    Uses in Statistical Analysis:\n",
    "    Covariance:\n",
    "\n",
    "    Used to determine the direction of the linear relationship between two variables.\n",
    "    Important in portfolio theory, where it helps in understanding the relationship between different assets.\n",
    "    However, its magnitude is not easily interpretable due to the scale dependency.\n",
    "\n",
    "    Correlation:\n",
    "\n",
    "    Widely used to determine the strength and direction of the linear relationship between two variables.\n",
    "    Commonly employed in various fields like finance, economics, biology, and social sciences.\n",
    "    Helps in predicting one variable based on another and understanding the reliability of predictions.\n",
    "\n",
    "\n",
    "\n",
    "\n"
   ]
  },
  {
   "cell_type": "markdown",
   "id": "a70f6d87",
   "metadata": {},
   "source": [
    "Q11. What is the formula for calculating the sample mean? Provide an example calculation for a\n",
    "dataset."
   ]
  },
  {
   "cell_type": "markdown",
   "id": "b5f2aad7",
   "metadata": {},
   "source": [
    "Ans:\n",
    "    \n",
    "    The sample mean, often simply referred to as the \"mean,\" is a measure of central tendency that represents the average\n",
    "    value of a dataset. \n",
    "    The formula to calculate the sample mean = Mean=Sum of all heights/Number of heights\n",
    "    \n",
    "    Example : Height Data:[178,177,176,177,178.2,178,175,179,180,175,178.9,176.2,177,172.5,178,176.5]\n",
    "              mean = (178,177,176,177,178.2,178,175,179,180,175,178.9,176.2,177,172.5,178,176.5)/16\n",
    "              mean = 177\n",
    "            \n",
    "              \n",
    "    "
   ]
  },
  {
   "cell_type": "code",
   "execution_count": 15,
   "id": "9dc72433",
   "metadata": {},
   "outputs": [
    {
     "data": {
      "text/plain": [
       "177.01875"
      ]
     },
     "execution_count": 15,
     "metadata": {},
     "output_type": "execute_result"
    }
   ],
   "source": [
    "# calculating the sample mean\n",
    "data = [178,177,176,177,178.2,178,175,179,180,175,178.9,176.2,177,172.5,178,176.5]\n",
    "import numpy as np\n",
    "mean = np.mean(data)\n",
    "mean"
   ]
  },
  {
   "cell_type": "markdown",
   "id": "74dec742",
   "metadata": {},
   "source": [
    "Q12. For a normal distribution data what is the relationship between its measure of central tendency?"
   ]
  },
  {
   "cell_type": "markdown",
   "id": "1d94d4cd",
   "metadata": {},
   "source": [
    "Ans:\n",
    "    \n",
    "    Relationship between Mean, Median, and Mode in a Normal Distribution:\n",
    "    Mean = Median = Mode\n",
    "\n",
    "    In a perfectly symmetrical normal distribution, the mean (average), median (middle value), and mode \n",
    "    (most frequent value) are all equal.\n",
    "    This occurs because the data is symmetrically distributed around the center, so the center of the distribution is\n",
    "    the same for all three measures.\n",
    "    \n",
    "    Symmetry and Balance:\n",
    "\n",
    "    The normal distribution is characterized by its symmetry, where the left half mirrors the right half. Due to this \n",
    "    symmetry, the mean, median, and mode all occur at the center of the distribution.\n",
    "    As you move away from the mean in either direction, the data values decrease symmetrically, contributing to this\n",
    "    balanced and symmetrical shape.\n",
    "    \n",
    "    Equal Values in the Center:\n",
    "\n",
    "    The peak of the normal distribution represents the mode, which is also the point where the mean and median are located.\n",
    "    This peak indicates the most frequently occurring value(s) in the dataset.\n",
    "    Given the bell-shaped symmetry of the normal distribution, the mean and median are also positioned at the center, where \n",
    "    the distribution is at its highest point."
   ]
  },
  {
   "cell_type": "markdown",
   "id": "313d0384",
   "metadata": {},
   "source": [
    "Q13. How is covariance different from correlation?"
   ]
  },
  {
   "cell_type": "markdown",
   "id": "59a24537",
   "metadata": {},
   "source": [
    "Ans:\n",
    "    \n",
    "    Covariance provides insights into the direction of the relationship between two variables (positive or negative) but\n",
    "    does not offer a standardized measure of the strength of the relationship.\n",
    "    \n",
    "    Correlation offers a standardized measure that quantifies both the direction and strength of the linear relationship\n",
    "    between two variables, making it easier to interpret and compare across different datasets.\n",
    "\n",
    "    In summary, while both covariance and correlation measure the relationship between two variables, covariance indicates \n",
    "    direction and is scale-dependent, whereas correlation provides a standardized measure of both direction and strength, \n",
    "    making it more interpretable and universally applicable.\n",
    "\n",
    "\n",
    "\n",
    "\n",
    "\n",
    "\n"
   ]
  },
  {
   "cell_type": "markdown",
   "id": "df8a5dd2",
   "metadata": {},
   "source": [
    "Q14. How do outliers affect measures of central tendency and dispersion? Provide an example."
   ]
  },
  {
   "cell_type": "markdown",
   "id": "40a5c7c0",
   "metadata": {},
   "source": [
    "Ans:\n",
    "    \n",
    "    Outliers can significantly impact both measures of central tendency (mean, median, mode) and measures of dispersion\n",
    "    (range, variance, standard deviation). Their presence can distort the typical values and spread of a dataset, leading \n",
    "    to potentially misleading conclusions.\n",
    "\n",
    "    Effects of Outliers:\n",
    "    Measures of Central Tendency:\n",
    "\n",
    "    Mean: Outliers can heavily influence the mean. A single outlier with a very high or low value can pull the mean towards\n",
    "        it, making it unrepresentative of the central data. The mean is not a robust measure in the presence of outliers.\n",
    "    Median: The median is resistant to outliers because it represents the middle value when data is sorted. Therefore, one \n",
    "        or even multiple outliers will have little to no effect on the median.\n",
    "    Mode: Like the median, outliers have minimal effect on the mode since it represents the most frequently occurring\n",
    "        value(s). However, if an outlier is also the mode, then it can shift the mode.\n",
    "        \n",
    "    Measures of Dispersion:\n",
    "\n",
    "    Range: Outliers can significantly affect the range, especially if they are far from the rest of the data. The range \n",
    "        will increase if there are outliers on the higher or lower end of the data spectrum.\n",
    "    Variance and Standard Deviation: Outliers can inflate both variance and standard deviation, especially the standard \n",
    "        deviation since it is the square root of the variance. Outliers increase the squared differences from the mean,\n",
    "        resulting in larger variance and subsequently larger standard deviation.\n"
   ]
  },
  {
   "cell_type": "code",
   "execution_count": 16,
   "id": "e6756bfe",
   "metadata": {},
   "outputs": [
    {
     "data": {
      "text/plain": [
       "42.8"
      ]
     },
     "execution_count": 16,
     "metadata": {},
     "output_type": "execute_result"
    }
   ],
   "source": [
    "#Example:\n",
    "#Consider a dataset representing the salaries (in thousands) of employees in a company:\n",
    "#Salaries:40,45,42,43,44,500\n",
    "# Mean without outlier amount 500\n",
    "import numpy as np\n",
    "sal = 40,45,42,43,44\n",
    "mean = np.mean(sal)\n",
    "mean"
   ]
  },
  {
   "cell_type": "code",
   "execution_count": 17,
   "id": "1ca09b87",
   "metadata": {},
   "outputs": [
    {
     "data": {
      "text/plain": [
       "119.0"
      ]
     },
     "execution_count": 17,
     "metadata": {},
     "output_type": "execute_result"
    }
   ],
   "source": [
    "#mean with outlier 500\n",
    "out_sal = 40,45,42,43,44,500\n",
    "out_mean = np.mean(out_sal)\n",
    "out_mean\n",
    "# As we can see mean is very much affected by the outliers."
   ]
  },
  {
   "cell_type": "code",
   "execution_count": 18,
   "id": "a80fd414",
   "metadata": {},
   "outputs": [
    {
     "data": {
      "text/plain": [
       "43.5"
      ]
     },
     "execution_count": 18,
     "metadata": {},
     "output_type": "execute_result"
    }
   ],
   "source": [
    "# calculating the median value with outlier\n",
    "median = np.median(out_sal)\n",
    "median\n",
    "#As we cann see that their is a negliagible effect on median due to outlier values"
   ]
  },
  {
   "cell_type": "code",
   "execution_count": null,
   "id": "d46b5db8",
   "metadata": {},
   "outputs": [],
   "source": []
  }
 ],
 "metadata": {
  "kernelspec": {
   "display_name": "Python 3 (ipykernel)",
   "language": "python",
   "name": "python3"
  },
  "language_info": {
   "codemirror_mode": {
    "name": "ipython",
    "version": 3
   },
   "file_extension": ".py",
   "mimetype": "text/x-python",
   "name": "python",
   "nbconvert_exporter": "python",
   "pygments_lexer": "ipython3",
   "version": "3.9.13"
  }
 },
 "nbformat": 4,
 "nbformat_minor": 5
}
